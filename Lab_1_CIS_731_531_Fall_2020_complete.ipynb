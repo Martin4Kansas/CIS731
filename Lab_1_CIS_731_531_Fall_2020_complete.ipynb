{
  "nbformat": 4,
  "nbformat_minor": 0,
  "metadata": {
    "colab": {
      "name": "Lab_1_CIS_731_531_Fall_2020_complete.ipynb",
      "provenance": [],
      "collapsed_sections": []
    },
    "kernelspec": {
      "display_name": "Python 3",
      "language": "python",
      "name": "python3"
    },
    "language_info": {
      "codemirror_mode": {
        "name": "ipython",
        "version": 3
      },
      "file_extension": ".py",
      "mimetype": "text/x-python",
      "name": "python",
      "nbconvert_exporter": "python",
      "pygments_lexer": "ipython3",
      "version": "3.7.4"
    }
  },
  "cells": [
    {
      "cell_type": "markdown",
      "metadata": {
        "colab_type": "text",
        "id": "6mPlcRnvP-us"
      },
      "source": [
        "https://jheck.gitbook.io/hadoop/apache-spark is a better place to for this lab with a bit updated code\n"
      ]
    },
    {
      "cell_type": "markdown",
      "metadata": {
        "colab_type": "text",
        "id": "znUM1zhi1ZXJ"
      },
      "source": [
        "# **Lab 01: Numerical summarization: PySpark RDD orientation and word count**\n",
        "\n",
        "Look for # TODO comments in the code and replace <FILL IN> with the appropriate code.\n",
        "\n",
        "You will find several places in the code below with the TODO comments. "
      ]
    },
    {
      "cell_type": "code",
      "metadata": {
        "colab_type": "code",
        "id": "gKyVPRrKbkW5",
        "colab": {
          "base_uri": "https://localhost:8080/",
          "height": 68
        },
        "outputId": "2d62c609-7a4e-482d-ee74-c9101cf3706b"
      },
      "source": [
        "# The following statement will install pyspark\n",
        "!pip install -q pyspark"
      ],
      "execution_count": 1,
      "outputs": [
        {
          "output_type": "stream",
          "text": [
            "\u001b[K     |████████████████████████████████| 204.7MB 65kB/s \n",
            "\u001b[K     |████████████████████████████████| 204kB 48.5MB/s \n",
            "\u001b[?25h  Building wheel for pyspark (setup.py) ... \u001b[?25l\u001b[?25hdone\n"
          ],
          "name": "stdout"
        }
      ]
    },
    {
      "cell_type": "code",
      "metadata": {
        "colab_type": "code",
        "id": "bF1QFiVNV8wN",
        "colab": {}
      },
      "source": [
        "# To use Spark and its API import the SparkContext\n",
        "from pyspark import SparkContext\n",
        "\n",
        "# Create Spark Context\n",
        "sc = SparkContext()"
      ],
      "execution_count": 2,
      "outputs": []
    },
    {
      "cell_type": "markdown",
      "metadata": {
        "colab_type": "text",
        "id": "G3v9HjL33HTU"
      },
      "source": [
        "**Step 1: Create a base RDD**\n",
        "\n",
        "There are two ways to create RDDs:\n",
        "\n",
        "a) By parallelizing an existing collection in your driver program.\n",
        "Parallelized collections are created by calling SparkContext’s parallelize method.  \n",
        "\n",
        "b) By referencing a dataset in an external storage system, such as a shared filesystem, HDFS, HBase, or any data source offering a Hadoop InputFormat.\n"
      ]
    },
    {
      "cell_type": "code",
      "metadata": {
        "colab_type": "code",
        "id": "8MUjuIBDR806",
        "colab": {
          "base_uri": "https://localhost:8080/",
          "height": 34
        },
        "outputId": "14377061-216f-4fbf-fbfe-599d5c811d4a"
      },
      "source": [
        "# We start by creating a Python List\n",
        "wordsList = ['cat', 'elephant', 'rat', 'rat', 'cat']\n",
        "\n",
        "##################################################################################################################\n",
        "# TODO: Generate a base RDD by using the Python list created above and the sc.parallelize method with 4 partitions\n",
        "##################################################################################################################\n",
        "wordsRDD =   sc.parallelize(wordsList,4)\n",
        "\n",
        "# Print out the type of base RDD created by the above statement\n",
        "print (type(wordsRDD))\n"
      ],
      "execution_count": 3,
      "outputs": [
        {
          "output_type": "stream",
          "text": [
            "<class 'pyspark.rdd.RDD'>\n"
          ],
          "name": "stdout"
        }
      ]
    },
    {
      "cell_type": "markdown",
      "metadata": {
        "colab_type": "text",
        "id": "TtOXSpdn5zVN"
      },
      "source": [
        "**Pluralize and test**\n",
        "\n",
        "Next we add the letter 's' to each string in the base RDD we just created. \n",
        "\n",
        "makePlural() is a method that adds 's' to any word it receives as argument. Below we test the method with an example word: 'cat'"
      ]
    },
    {
      "cell_type": "code",
      "metadata": {
        "colab_type": "code",
        "id": "nmz1Zqoh9LJr",
        "colab": {
          "base_uri": "https://localhost:8080/",
          "height": 34
        },
        "outputId": "358472f0-bf9c-4161-95ba-89c9145a1dbc"
      },
      "source": [
        "def makePlural(word):\n",
        "  return word+'s'\n",
        "print (makePlural('cat'))\n"
      ],
      "execution_count": 4,
      "outputs": [
        {
          "output_type": "stream",
          "text": [
            "cats\n"
          ],
          "name": "stdout"
        }
      ]
    },
    {
      "cell_type": "markdown",
      "metadata": {
        "colab_type": "text",
        "id": "rLShnMq4F5rq"
      },
      "source": [
        "**map() operation** accepts a function as an argument. This function will be applied to each element of the source RDD and eventually will create a new RDD.\n",
        "For example, we will apply makePlural() to the base RDD you created above (wordsRDD).\n",
        "\n",
        "The end result will be a new RDD where every word of the original RDD has a 's' appended to it. "
      ]
    },
    {
      "cell_type": "code",
      "metadata": {
        "colab_type": "code",
        "id": "n3v3IBtURoBS",
        "colab": {
          "base_uri": "https://localhost:8080/",
          "height": 34
        },
        "outputId": "cbcf937a-9531-44b7-87dd-e7e69debd1f2"
      },
      "source": [
        "##################################################################################################################\n",
        "# TODO:  Replace <FILL IN> with appropriate code \n",
        "##################################################################################################################\n",
        "pluralRDD =  wordsRDD.map(makePlural)\n",
        "#collect() returns all the elements of the RDD\n",
        "print (pluralRDD.collect())"
      ],
      "execution_count": 5,
      "outputs": [
        {
          "output_type": "stream",
          "text": [
            "['cats', 'elephants', 'rats', 'rats', 'cats']\n"
          ],
          "name": "stdout"
        }
      ]
    },
    {
      "cell_type": "markdown",
      "metadata": {
        "colab_type": "text",
        "id": "f6ysxeziYXly"
      },
      "source": [
        "Use map() command on wordsRDD and inside map lambda command to add \"s\" at the end of all the words in wordsRDD \n",
        "\n",
        "`Eg: RDD.map(lambda x: <function you want to perform>)`"
      ]
    },
    {
      "cell_type": "code",
      "metadata": {
        "colab_type": "code",
        "id": "iFuAAkAMWG-t",
        "colab": {
          "base_uri": "https://localhost:8080/",
          "height": 34
        },
        "outputId": "d8aed8f7-2a90-4ef2-849f-90192d64ecdb"
      },
      "source": [
        "##################################################################################################################\n",
        "# TODO:  Replace <FILL IN> with appropriate code\n",
        "##################################################################################################################\n",
        "pluralLambdaRDD = wordsRDD.map(lambda x: makePlural(x))\n",
        "print (pluralLambdaRDD.collect())"
      ],
      "execution_count": 6,
      "outputs": [
        {
          "output_type": "stream",
          "text": [
            "['cats', 'elephants', 'rats', 'rats', 'cats']\n"
          ],
          "name": "stdout"
        }
      ]
    },
    {
      "cell_type": "markdown",
      "metadata": {
        "colab_type": "text",
        "id": "_E1KoTPiIG3e"
      },
      "source": [
        "**Lambda Function**\n",
        "\n",
        "It is a way to create small anonymous functions, i.e. functions without a name.\n",
        "\n",
        "\n",
        "Next: We will use map() and a lambda function to return the number of characters in each word and collect the result in a variable."
      ]
    },
    {
      "cell_type": "code",
      "metadata": {
        "colab_type": "code",
        "id": "0KD_dW7wYhr5",
        "colab": {
          "base_uri": "https://localhost:8080/",
          "height": 34
        },
        "outputId": "784c1290-909c-4ecd-9306-a893e9df28f5"
      },
      "source": [
        "##################################################################################################################\n",
        "# TODO:  Replace <FILL IN> with appropriate code\n",
        "##################################################################################################################\n",
        "pluralLength =  pluralRDD.map(len)\n",
        "print (pluralLength.collect())"
      ],
      "execution_count": 7,
      "outputs": [
        {
          "output_type": "stream",
          "text": [
            "[4, 9, 4, 4, 4]\n"
          ],
          "name": "stdout"
        }
      ]
    },
    {
      "cell_type": "markdown",
      "metadata": {
        "colab_type": "text",
        "id": "UIbm0BqbI6Oj"
      },
      "source": [
        "**Pair RDDs**\n",
        "\n",
        "A pair RDD is an RDD where each element is a pair tuple (k, v) where k is the key and v is the value. In this example, we will create a pair consisting of ('<word>', 1) for each word element in the RDD. \n",
        "\n",
        "We can use the lambda function with map() to return us a pair of ('<word>', 1) for every word in our base RDD."
      ]
    },
    {
      "cell_type": "code",
      "metadata": {
        "colab_type": "code",
        "id": "2WNZXVxsa5Zf",
        "colab": {
          "base_uri": "https://localhost:8080/",
          "height": 34
        },
        "outputId": "6755cce6-8496-421c-cd20-5aa94402e0d2"
      },
      "source": [
        "##################################################################################################################\n",
        "# TODO:  Replace <FILL IN> with appropriate code\n",
        "##################################################################################################################\n",
        "wordPair = wordsRDD.map(lambda x: (x,1))\n",
        "print (wordPair.collect())"
      ],
      "execution_count": 8,
      "outputs": [
        {
          "output_type": "stream",
          "text": [
            "[('cat', 1), ('elephant', 1), ('rat', 1), ('rat', 1), ('cat', 1)]\n"
          ],
          "name": "stdout"
        }
      ]
    },
    {
      "cell_type": "markdown",
      "metadata": {
        "colab_type": "text",
        "id": "2tWIv0ZqJVH4"
      },
      "source": [
        "**Counting with pair RDDs**\n",
        "\n",
        "(1) groupByKey()  -  It groups all the elements of the RDD with the same key into a single list in one of the partitions.\n",
        "\n",
        "For this function use wordPair\n"
      ]
    },
    {
      "cell_type": "code",
      "metadata": {
        "colab_type": "code",
        "id": "8La22RafHKD9",
        "colab": {
          "base_uri": "https://localhost:8080/",
          "height": 68
        },
        "outputId": "3170191a-2b9b-4d49-970c-a6443b65d502"
      },
      "source": [
        "##################################################################################################################\n",
        "# TODO:  Replace <FILL IN> with appropriate code\n",
        "##################################################################################################################\n",
        "wordGrouped = wordPair.groupByKey()\n",
        "for key, value in wordGrouped.collect():\n",
        "  print( \"{0} : {1}\".format(key,list(value)))"
      ],
      "execution_count": 9,
      "outputs": [
        {
          "output_type": "stream",
          "text": [
            "cat : [1, 1]\n",
            "elephant : [1]\n",
            "rat : [1, 1]\n"
          ],
          "name": "stdout"
        }
      ]
    },
    {
      "cell_type": "code",
      "metadata": {
        "colab_type": "code",
        "id": "ElJIl0tRH2Br",
        "colab": {
          "base_uri": "https://localhost:8080/",
          "height": 34
        },
        "outputId": "3226203f-dd9d-4244-e856-b46c9f530649"
      },
      "source": [
        "wordCountsGrouped = wordGrouped.mapValues(lambda v: sum(v))\n",
        "print(wordCountsGrouped.collect())"
      ],
      "execution_count": 10,
      "outputs": [
        {
          "output_type": "stream",
          "text": [
            "[('cat', 2), ('elephant', 1), ('rat', 2)]\n"
          ],
          "name": "stdout"
        }
      ]
    },
    {
      "cell_type": "markdown",
      "metadata": {
        "colab_type": "text",
        "id": "wcxGc6_UMISc"
      },
      "source": [
        "**Another way of counting with pair RDDs:**\n",
        "\n",
        "(2) reduceByKey  - The reduceByKey() transformation gathers together pairs that have the same key and applies the function provided to two values at a time, iteratively reducing all of the values to a single value."
      ]
    },
    {
      "cell_type": "code",
      "metadata": {
        "colab_type": "code",
        "id": "zV0PLkPyIdsk",
        "colab": {
          "base_uri": "https://localhost:8080/",
          "height": 34
        },
        "outputId": "1795343a-1bf8-4bdb-e960-b7fd15b841e4"
      },
      "source": [
        "##################################################################################################################\n",
        "# TODO:  Replace <FILL IN> with appropriate code\n",
        "##################################################################################################################\n",
        "wordCount = wordPair.reduceByKey(lambda accum, n: accum + n)\n",
        "print(wordCount.collect())"
      ],
      "execution_count": 11,
      "outputs": [
        {
          "output_type": "stream",
          "text": [
            "[('cat', 2), ('elephant', 1), ('rat', 2)]\n"
          ],
          "name": "stdout"
        }
      ]
    },
    {
      "cell_type": "code",
      "metadata": {
        "colab_type": "code",
        "id": "jeFtXiZKXOYy",
        "colab": {
          "base_uri": "https://localhost:8080/",
          "height": 34
        },
        "outputId": "79ff2a37-fa7d-4865-dcb5-8bbf1891e4f3"
      },
      "source": [
        "# Expert version: the map() to pair RDD, reduceByKey() transformation, and collect in one statement\n",
        "wordCountCollected =  (wordsRDD.map(lambda x : (x,1) ).reduceByKey(lambda x, y: x+y).collect())\n",
        "print(wordCountCollected)"
      ],
      "execution_count": 12,
      "outputs": [
        {
          "output_type": "stream",
          "text": [
            "[('cat', 2), ('elephant', 1), ('rat', 2)]\n"
          ],
          "name": "stdout"
        }
      ]
    },
    {
      "cell_type": "markdown",
      "metadata": {
        "colab_type": "text",
        "id": "bo9S1jcvaHIn"
      },
      "source": [
        "Count() is used to count number of unique items in RDD\n",
        "\n",
        "For next FILL IN use wordCount RDD "
      ]
    },
    {
      "cell_type": "code",
      "metadata": {
        "colab_type": "code",
        "id": "VtcWRF7kYNEF",
        "colab": {
          "base_uri": "https://localhost:8080/",
          "height": 34
        },
        "outputId": "3e8498f6-5901-429d-86cc-e9c9ec348f11"
      },
      "source": [
        "##################################################################################################################\n",
        "# TODO:  Replace <FILL IN> with appropriate code\n",
        "##################################################################################################################\n",
        "uniqueWord = wordCount.count()\n",
        "print(uniqueWord)"
      ],
      "execution_count": 13,
      "outputs": [
        {
          "output_type": "stream",
          "text": [
            "3\n"
          ],
          "name": "stdout"
        }
      ]
    },
    {
      "cell_type": "markdown",
      "metadata": {
        "colab_type": "text",
        "id": "GAZFug3ncaCD"
      },
      "source": [
        "FlatMap() Return a new RDD by first applying a function to all lements of this RDD, and then flattening the results.\n",
        "\n",
        "Difference between Map and Flatmap\n",
        "(look at the link for better understanding of flatmap)\n",
        "https://www.linkedin.com/pulse/difference-between-map-flatmap-transformations-spark-pyspark-pandey/"
      ]
    },
    {
      "cell_type": "code",
      "metadata": {
        "colab_type": "code",
        "id": "et8K5NqVdAG_",
        "colab": {
          "base_uri": "https://localhost:8080/",
          "height": 34
        },
        "outputId": "333c2afa-faa7-4545-d41e-81923bcfeaae"
      },
      "source": [
        "from itertools import chain\n",
        "fruits = [[\"apple\",\"Hackberry\"],[\"Jackfruit\",\"Java Apple\"],[\"Yangmei\",\"Oranges\"], [\"Nashi Pear\",\"Mango\"] ]\n",
        "#your task is to use pyspark and flatten the given list fruits\n",
        "# Hint use chain in lambda \n",
        "print(sc.parallelize(fruits).flatMap(lambda x: chain(x)).collect())"
      ],
      "execution_count": 14,
      "outputs": [
        {
          "output_type": "stream",
          "text": [
            "['apple', 'Hackberry', 'Jackfruit', 'Java Apple', 'Yangmei', 'Oranges', 'Nashi Pear', 'Mango']\n"
          ],
          "name": "stdout"
        }
      ]
    },
    {
      "cell_type": "code",
      "metadata": {
        "colab_type": "code",
        "id": "5VPRAyAlE5iX",
        "colab": {}
      },
      "source": [
        "testString = ('my dear friend\\n',\n",
        "  'you don\\'t know this yet but\\n',\n",
        " 'this lab is  going to really helpful for you with your homework\\n',\n",
        " 'so, thank me later\\n',\n",
        " 'best regards\\n',\n",
        " \"your well wisher\\n\",\n",
        " \"your your your your your\\n\",\n",
        " \"you you you you you you you you you you you\",\n",
        " \"this this this this\",\n",
        " \"homework homework homework homework homework homework homework homework homework homework \")"
      ],
      "execution_count": 15,
      "outputs": []
    },
    {
      "cell_type": "code",
      "metadata": {
        "colab_type": "code",
        "id": "yf9j1tRWJGOt",
        "colab": {}
      },
      "source": [
        "def wordCount(wordListRDD):\n",
        "    \"\"\"Creates a pair RDD with word counts from an RDD of words.\n",
        "\n",
        "    Args:\n",
        "        wordListRDD (RDD of str): An RDD consisting of words.\n",
        "\n",
        "    Returns:\n",
        "        wordCountsCollected (str, int): An RDD consisting of (word, count) tuples.\n",
        "    \"\"\"\n",
        "    wordCountsCollected = (wordListRDD\n",
        "                       .map(lambda x: (x, 1))\n",
        "                       .reduceByKey(lambda x, y: x + y))\n",
        "    return wordCountsCollected"
      ],
      "execution_count": 16,
      "outputs": []
    },
    {
      "cell_type": "markdown",
      "metadata": {
        "colab_type": "text",
        "id": "0XO4RIvcJlqH"
      },
      "source": [
        "takeOrdered() : Get the N elements from a RDD ordered in ascending order or as specified by the optional key function.\t\n",
        "\n",
        "For this function you have to show top 15 words with number of word used in testString print them\n",
        "\n",
        "Hint: use flatmap,split() and call wordCount Function"
      ]
    },
    {
      "cell_type": "code",
      "metadata": {
        "colab_type": "code",
        "id": "05d9Q1cNFKHQ",
        "colab": {
          "base_uri": "https://localhost:8080/",
          "height": 272
        },
        "outputId": "47529179-c558-46d8-c03b-e74955167514"
      },
      "source": [
        "stringRDD = sc.parallelize(testString)\n",
        "##################################################################################################################\n",
        "# TODO: Replace <FILL IN> with appropriate code\n",
        "##################################################################################################################\n",
        "wordRDD = stringRDD.flatMap(lambda x: x.split())\n",
        "top15WordsAndCounts = sc.parallelize(wordCount(wordRDD).takeOrdered(15, key=lambda x: -x[1]))\n",
        "print ('\\n'.join(map(lambda w: '{0}: {1}'.format(w[0], w[1]), top15WordsAndCounts.collect())))"
      ],
      "execution_count": 17,
      "outputs": [
        {
          "output_type": "stream",
          "text": [
            "you: 13\n",
            "homework: 11\n",
            "your: 7\n",
            "this: 6\n",
            "know: 1\n",
            "yet: 1\n",
            "but: 1\n",
            "lab: 1\n",
            "is: 1\n",
            "really: 1\n",
            "helpful: 1\n",
            "best: 1\n",
            "wisher: 1\n",
            "my: 1\n",
            "dear: 1\n"
          ],
          "name": "stdout"
        }
      ]
    }
  ]
}